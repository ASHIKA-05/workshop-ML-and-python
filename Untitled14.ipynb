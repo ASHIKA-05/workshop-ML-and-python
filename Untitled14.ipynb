{
  "nbformat": 4,
  "nbformat_minor": 0,
  "metadata": {
    "colab": {
      "name": "Untitled14.ipynb",
      "provenance": [],
      "authorship_tag": "ABX9TyNRL47WwA7OMPgYgBMsEPXA",
      "include_colab_link": true
    },
    "kernelspec": {
      "name": "python3",
      "display_name": "Python 3"
    }
  },
  "cells": [
    {
      "cell_type": "markdown",
      "metadata": {
        "id": "view-in-github",
        "colab_type": "text"
      },
      "source": [
        "<a href=\"https://colab.research.google.com/github/ASHIKA-05/workshop-ML-and-python/blob/master/Untitled14.ipynb\" target=\"_parent\"><img src=\"https://colab.research.google.com/assets/colab-badge.svg\" alt=\"Open In Colab\"/></a>"
      ]
    },
    {
      "cell_type": "code",
      "metadata": {
        "id": "HwUAPBh9tu1W",
        "colab_type": "code",
        "colab": {}
      },
      "source": [
        "#CASE STUDY 1\n",
        "\n",
        "#Data cleaning for property_data1.csv file\n",
        "\n",
        "#Data Cleaning is the process of preventing and correcting the errors such as duplicates, misssing values and incomplet data by importing libraries pandas and numpy\n",
        "\n",
        "\n",
        "import pandas as pd\n",
        "import numpy as np"
      ],
      "execution_count": null,
      "outputs": []
    },
    {
      "cell_type": "code",
      "metadata": {
        "id": "mfRdCpM4uR0m",
        "colab_type": "code",
        "colab": {
          "resources": {
            "http://localhost:8080/nbextensions/google.colab/files.js": {
              "data": "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",
              "ok": true,
              "headers": [
                [
                  "content-type",
                  "application/javascript"
                ]
              ],
              "status": 200,
              "status_text": ""
            }
          },
          "base_uri": "https://localhost:8080/",
          "height": 73
        },
        "outputId": "e6c55890-544f-486e-b8e0-ec2dbe26d7f0"
      },
      "source": [
        "#Coding for importing csv files in Google colab\n",
        "# Read csv file property_data.csv into a pandas dataframe\n",
        "from google.colab import files\n",
        "import io\n",
        "uploaded = files.upload()\n",
        "df = pd.read_csv(io.BytesIO(uploaded['property_data.csv']))"
      ],
      "execution_count": 3,
      "outputs": [
        {
          "output_type": "display_data",
          "data": {
            "text/html": [
              "\n",
              "     <input type=\"file\" id=\"files-2caf022f-970d-4de9-b9ac-b8b6dea5097d\" name=\"files[]\" multiple disabled\n",
              "        style=\"border:none\" />\n",
              "     <output id=\"result-2caf022f-970d-4de9-b9ac-b8b6dea5097d\">\n",
              "      Upload widget is only available when the cell has been executed in the\n",
              "      current browser session. Please rerun this cell to enable.\n",
              "      </output>\n",
              "      <script src=\"/nbextensions/google.colab/files.js\"></script> "
            ],
            "text/plain": [
              "<IPython.core.display.HTML object>"
            ]
          },
          "metadata": {
            "tags": []
          }
        },
        {
          "output_type": "stream",
          "text": [
            "Saving property_data.csv to property_data.csv\n"
          ],
          "name": "stdout"
        }
      ]
    },
    {
      "cell_type": "code",
      "metadata": {
        "id": "NmfJ73N2vhAV",
        "colab_type": "code",
        "colab": {
          "base_uri": "https://localhost:8080/",
          "height": 191
        },
        "outputId": "ba00e5d0-85ab-42e5-bc68-e9b696c75bdc"
      },
      "source": [
        "# Take a look at the first few rows\n",
        "print(df)"
      ],
      "execution_count": 4,
      "outputs": [
        {
          "output_type": "stream",
          "text": [
            "   ST_NUM    ST_NAME NUM_ROOMS OWN_OCCUPIED\n",
            "0   104.0     LEXTON         2            Y\n",
            "1   197.0   BERKELEY         3            N\n",
            "2     NaN  WASHINTON         3            Y\n",
            "3   201.0    TREMONT       NaN            N\n",
            "4   203.0    TREMONT        na           12\n",
            "5   205.0    TREMONT        --            Y\n",
            "6     NaN      BLAZE         4          NaN\n",
            "7   213.0      BLAZE         5            N\n",
            "8   214.0      BLAZE         6            N\n"
          ],
          "name": "stdout"
        }
      ]
    },
    {
      "cell_type": "code",
      "metadata": {
        "id": "wZMUbIGOvtBw",
        "colab_type": "code",
        "colab": {
          "base_uri": "https://localhost:8080/",
          "height": 711
        },
        "outputId": "98f8ed05-493a-40a5-c8da-aa678007cb0c"
      },
      "source": [
        "#Looking at the ST_NUM and NUM_ROOMS columns whether they have any null values\n",
        "\n",
        "print (df['ST_NUM'])\n",
        "print (df['ST_NUM'].isnull())\n",
        "print(df['NUM_ROOMS'])\n",
        "print(df['NUM_ROOMS'].isnull())"
      ],
      "execution_count": 5,
      "outputs": [
        {
          "output_type": "stream",
          "text": [
            "0    104.0\n",
            "1    197.0\n",
            "2      NaN\n",
            "3    201.0\n",
            "4    203.0\n",
            "5    205.0\n",
            "6      NaN\n",
            "7    213.0\n",
            "8    214.0\n",
            "Name: ST_NUM, dtype: float64\n",
            "0    False\n",
            "1    False\n",
            "2     True\n",
            "3    False\n",
            "4    False\n",
            "5    False\n",
            "6     True\n",
            "7    False\n",
            "8    False\n",
            "Name: ST_NUM, dtype: bool\n",
            "0      2\n",
            "1      3\n",
            "2      3\n",
            "3    NaN\n",
            "4     na\n",
            "5     --\n",
            "6      4\n",
            "7      5\n",
            "8      6\n",
            "Name: NUM_ROOMS, dtype: object\n",
            "0    False\n",
            "1    False\n",
            "2    False\n",
            "3     True\n",
            "4    False\n",
            "5    False\n",
            "6    False\n",
            "7    False\n",
            "8    False\n",
            "Name: NUM_ROOMS, dtype: bool\n"
          ],
          "name": "stdout"
        }
      ]
    },
    {
      "cell_type": "code",
      "metadata": {
        "id": "S7HfvtQ0vz5U",
        "colab_type": "code",
        "colab": {
          "base_uri": "https://localhost:8080/",
          "height": 364
        },
        "outputId": "43bca9ed-861e-4f79-d250-68e4df5f08de"
      },
      "source": [
        "#To mention possible missing values while opening the file\n",
        "\n",
        "print(df['NUM_ROOMS'])\n",
        "print(df['NUM_ROOMS'].isnull())"
      ],
      "execution_count": 6,
      "outputs": [
        {
          "output_type": "stream",
          "text": [
            "0      2\n",
            "1      3\n",
            "2      3\n",
            "3    NaN\n",
            "4     na\n",
            "5     --\n",
            "6      4\n",
            "7      5\n",
            "8      6\n",
            "Name: NUM_ROOMS, dtype: object\n",
            "0    False\n",
            "1    False\n",
            "2    False\n",
            "3     True\n",
            "4    False\n",
            "5    False\n",
            "6    False\n",
            "7    False\n",
            "8    False\n",
            "Name: NUM_ROOMS, dtype: bool\n"
          ],
          "name": "stdout"
        }
      ]
    },
    {
      "cell_type": "code",
      "metadata": {
        "id": "8GWVRqfyv69f",
        "colab_type": "code",
        "colab": {
          "base_uri": "https://localhost:8080/",
          "height": 711
        },
        "outputId": "393130b8-6445-424d-d4c8-db72ff6d18cd"
      },
      "source": [
        "#The above 3,4 5th index is not numeric whih needs correction again therefore we need coding part for it. It is corrected with coding below\n",
        "\n",
        "cnt = 0\n",
        "for row in df['NUM_ROOMS']: \n",
        "  try:\n",
        "    int(row) \n",
        "  except ValueError:\n",
        "    df.loc[cnt, 'NUM_ROOMS']=np.nan \n",
        "  cnt+=1\n",
        "print(df['NUM_ROOMS'])\n",
        "print(df['NUM_ROOMS'].isnull())\n",
        "\n",
        "\n",
        "print(df['OWN_OCCUPIED'])\n",
        "print(df['OWN_OCCUPIED'].isnull())"
      ],
      "execution_count": 7,
      "outputs": [
        {
          "output_type": "stream",
          "text": [
            "0      2\n",
            "1      3\n",
            "2      3\n",
            "3    NaN\n",
            "4    NaN\n",
            "5    NaN\n",
            "6      4\n",
            "7      5\n",
            "8      6\n",
            "Name: NUM_ROOMS, dtype: object\n",
            "0    False\n",
            "1    False\n",
            "2    False\n",
            "3     True\n",
            "4     True\n",
            "5     True\n",
            "6    False\n",
            "7    False\n",
            "8    False\n",
            "Name: NUM_ROOMS, dtype: bool\n",
            "0      Y\n",
            "1      N\n",
            "2      Y\n",
            "3      N\n",
            "4     12\n",
            "5      Y\n",
            "6    NaN\n",
            "7      N\n",
            "8      N\n",
            "Name: OWN_OCCUPIED, dtype: object\n",
            "0    False\n",
            "1    False\n",
            "2    False\n",
            "3    False\n",
            "4    False\n",
            "5    False\n",
            "6     True\n",
            "7    False\n",
            "8    False\n",
            "Name: OWN_OCCUPIED, dtype: bool\n"
          ],
          "name": "stdout"
        }
      ]
    },
    {
      "cell_type": "code",
      "metadata": {
        "id": "5BKT7jPgwCk-",
        "colab_type": "code",
        "colab": {
          "base_uri": "https://localhost:8080/",
          "height": 364
        },
        "outputId": "068e7830-c3dc-4a8c-ef51-c2f645a3f271"
      },
      "source": [
        "#The above 4 th index is numeric which needs correction again therefore we need coding part for it. It is corrected with coding below\n",
        "\n",
        "cnt=0\n",
        "for row in df['OWN_OCCUPIED']:\n",
        "    try:\n",
        "        int(row)\n",
        "        df.loc[cnt, 'OWN_OCCUPIED']=np.nan\n",
        "    except ValueError:\n",
        "        pass\n",
        "    cnt+=1\n",
        "print(df['OWN_OCCUPIED'])\n",
        "print(df['OWN_OCCUPIED'].isnull())"
      ],
      "execution_count": 8,
      "outputs": [
        {
          "output_type": "stream",
          "text": [
            "0      Y\n",
            "1      N\n",
            "2      Y\n",
            "3      N\n",
            "4    NaN\n",
            "5      Y\n",
            "6    NaN\n",
            "7      N\n",
            "8      N\n",
            "Name: OWN_OCCUPIED, dtype: object\n",
            "0    False\n",
            "1    False\n",
            "2    False\n",
            "3    False\n",
            "4     True\n",
            "5    False\n",
            "6     True\n",
            "7    False\n",
            "8    False\n",
            "Name: OWN_OCCUPIED, dtype: bool\n"
          ],
          "name": "stdout"
        }
      ]
    },
    {
      "cell_type": "code",
      "metadata": {
        "id": "x2qvZo4cwJjx",
        "colab_type": "code",
        "colab": {
          "base_uri": "https://localhost:8080/",
          "height": 139
        },
        "outputId": "e8e50042-1cbf-4e58-aaa0-ce075a1e2b5a"
      },
      "source": [
        "# Total missing values for each feature\n",
        "print(df.isnull().sum())\n",
        "print('Total missing values')\n",
        "print(sum(df.isnull().sum()))"
      ],
      "execution_count": 9,
      "outputs": [
        {
          "output_type": "stream",
          "text": [
            "ST_NUM          2\n",
            "ST_NAME         0\n",
            "NUM_ROOMS       3\n",
            "OWN_OCCUPIED    2\n",
            "dtype: int64\n",
            "Total missing values\n",
            "7\n"
          ],
          "name": "stdout"
        }
      ]
    },
    {
      "cell_type": "code",
      "metadata": {
        "id": "awc1p_JewQCO",
        "colab_type": "code",
        "colab": {
          "base_uri": "https://localhost:8080/",
          "height": 104
        },
        "outputId": "44490952-a4c2-4ee7-82e4-a0515d4d55ee"
      },
      "source": [
        "#Finding TOTAL missing of each mission fields and Total number of missing values\n",
        "\n",
        "print(df['ST_NUM'].isnull().sum()) \n",
        "print(df['ST_NAME'].isnull().sum()) \n",
        "print(df['NUM_ROOMS'].isnull().sum()) \n",
        "print(df['OWN_OCCUPIED'].isnull().sum()) \n",
        "print(df.isnull().sum().sum())"
      ],
      "execution_count": 10,
      "outputs": [
        {
          "output_type": "stream",
          "text": [
            "2\n",
            "0\n",
            "3\n",
            "2\n",
            "7\n"
          ],
          "name": "stdout"
        }
      ]
    },
    {
      "cell_type": "code",
      "metadata": {
        "id": "QQVws5v3wXHL",
        "colab_type": "code",
        "colab": {
          "base_uri": "https://localhost:8080/",
          "height": 87
        },
        "outputId": "2ff1fae0-baa9-4f61-8532-496d5532dfb0"
      },
      "source": [
        "#Finding COUNT AND average of missing of each mission fields and Total number of df.shape\n",
        "\n",
        "print(df['ST_NUM'].isnull().sum()/9.0)\n",
        "print(df['ST_NAME'].isnull().sum()/9.0) \n",
        "print(df['NUM_ROOMS'].isnull().sum()/9.0) \n",
        "print(df['OWN_OCCUPIED'].isnull().sum()/9.0)"
      ],
      "execution_count": 11,
      "outputs": [
        {
          "output_type": "stream",
          "text": [
            "0.2222222222222222\n",
            "0.0\n",
            "0.3333333333333333\n",
            "0.2222222222222222\n"
          ],
          "name": "stdout"
        }
      ]
    },
    {
      "cell_type": "code",
      "metadata": {
        "id": "sTzT0ZfIwdK_",
        "colab_type": "code",
        "colab": {
          "base_uri": "https://localhost:8080/",
          "height": 208
        },
        "outputId": "4a565711-8952-4bcc-93d0-ff126dfb6631"
      },
      "source": [
        "\n",
        "# error percentages are greater than 10%\n",
        "# Replace missing values with a number\n",
        "df['ST_NUM'].fillna(125, inplace=True)\n",
        "print('   ST_NUM')\n",
        "print(df['ST_NUM'])"
      ],
      "execution_count": 12,
      "outputs": [
        {
          "output_type": "stream",
          "text": [
            "   ST_NUM\n",
            "0    104.0\n",
            "1    197.0\n",
            "2    125.0\n",
            "3    201.0\n",
            "4    203.0\n",
            "5    205.0\n",
            "6    125.0\n",
            "7    213.0\n",
            "8    214.0\n",
            "Name: ST_NUM, dtype: float64\n"
          ],
          "name": "stdout"
        }
      ]
    },
    {
      "cell_type": "code",
      "metadata": {
        "id": "LcUSqsc6wi7o",
        "colab_type": "code",
        "colab": {
          "base_uri": "https://localhost:8080/",
          "height": 191
        },
        "outputId": "2b1d0d83-2386-4c24-8541-61ccc6f9d9b4"
      },
      "source": [
        "# Replace using median \n",
        "median = df['NUM_ROOMS'].median()\n",
        "df['NUM_ROOMS'].fillna(median, inplace=True)\n",
        "print(df['NUM_ROOMS'])"
      ],
      "execution_count": 13,
      "outputs": [
        {
          "output_type": "stream",
          "text": [
            "0      2\n",
            "1      3\n",
            "2      3\n",
            "3    3.5\n",
            "4    3.5\n",
            "5    3.5\n",
            "6      4\n",
            "7      5\n",
            "8      6\n",
            "Name: NUM_ROOMS, dtype: object\n"
          ],
          "name": "stdout"
        }
      ]
    },
    {
      "cell_type": "code",
      "metadata": {
        "id": "9mFOOusqwpIc",
        "colab_type": "code",
        "colab": {
          "base_uri": "https://localhost:8080/",
          "height": 191
        },
        "outputId": "bf82b6a6-5b0c-4a1d-b6a6-c8dc301534ee"
      },
      "source": [
        "print(df)"
      ],
      "execution_count": 14,
      "outputs": [
        {
          "output_type": "stream",
          "text": [
            "   ST_NUM    ST_NAME NUM_ROOMS OWN_OCCUPIED\n",
            "0   104.0     LEXTON         2            Y\n",
            "1   197.0   BERKELEY         3            N\n",
            "2   125.0  WASHINTON         3            Y\n",
            "3   201.0    TREMONT       3.5            N\n",
            "4   203.0    TREMONT       3.5          NaN\n",
            "5   205.0    TREMONT       3.5            Y\n",
            "6   125.0      BLAZE         4          NaN\n",
            "7   213.0      BLAZE         5            N\n",
            "8   214.0      BLAZE         6            N\n"
          ],
          "name": "stdout"
        }
      ]
    },
    {
      "cell_type": "code",
      "metadata": {
        "id": "7pBSO1dowu65",
        "colab_type": "code",
        "colab": {
          "base_uri": "https://localhost:8080/",
          "height": 325
        },
        "outputId": "5e843beb-92b5-4980-de96-c096daf65060"
      },
      "source": [
        "#To find the maxmum occurrence of the values in the attribute OWN_OCCUPIED\n",
        "\n",
        "df['OWN_OCCUPIED'].value_counts().idxmax()\n",
        "\n",
        "df"
      ],
      "execution_count": 15,
      "outputs": [
        {
          "output_type": "execute_result",
          "data": {
            "text/html": [
              "<div>\n",
              "<style scoped>\n",
              "    .dataframe tbody tr th:only-of-type {\n",
              "        vertical-align: middle;\n",
              "    }\n",
              "\n",
              "    .dataframe tbody tr th {\n",
              "        vertical-align: top;\n",
              "    }\n",
              "\n",
              "    .dataframe thead th {\n",
              "        text-align: right;\n",
              "    }\n",
              "</style>\n",
              "<table border=\"1\" class=\"dataframe\">\n",
              "  <thead>\n",
              "    <tr style=\"text-align: right;\">\n",
              "      <th></th>\n",
              "      <th>ST_NUM</th>\n",
              "      <th>ST_NAME</th>\n",
              "      <th>NUM_ROOMS</th>\n",
              "      <th>OWN_OCCUPIED</th>\n",
              "    </tr>\n",
              "  </thead>\n",
              "  <tbody>\n",
              "    <tr>\n",
              "      <th>0</th>\n",
              "      <td>104.0</td>\n",
              "      <td>LEXTON</td>\n",
              "      <td>2</td>\n",
              "      <td>Y</td>\n",
              "    </tr>\n",
              "    <tr>\n",
              "      <th>1</th>\n",
              "      <td>197.0</td>\n",
              "      <td>BERKELEY</td>\n",
              "      <td>3</td>\n",
              "      <td>N</td>\n",
              "    </tr>\n",
              "    <tr>\n",
              "      <th>2</th>\n",
              "      <td>125.0</td>\n",
              "      <td>WASHINTON</td>\n",
              "      <td>3</td>\n",
              "      <td>Y</td>\n",
              "    </tr>\n",
              "    <tr>\n",
              "      <th>3</th>\n",
              "      <td>201.0</td>\n",
              "      <td>TREMONT</td>\n",
              "      <td>3.5</td>\n",
              "      <td>N</td>\n",
              "    </tr>\n",
              "    <tr>\n",
              "      <th>4</th>\n",
              "      <td>203.0</td>\n",
              "      <td>TREMONT</td>\n",
              "      <td>3.5</td>\n",
              "      <td>NaN</td>\n",
              "    </tr>\n",
              "    <tr>\n",
              "      <th>5</th>\n",
              "      <td>205.0</td>\n",
              "      <td>TREMONT</td>\n",
              "      <td>3.5</td>\n",
              "      <td>Y</td>\n",
              "    </tr>\n",
              "    <tr>\n",
              "      <th>6</th>\n",
              "      <td>125.0</td>\n",
              "      <td>BLAZE</td>\n",
              "      <td>4</td>\n",
              "      <td>NaN</td>\n",
              "    </tr>\n",
              "    <tr>\n",
              "      <th>7</th>\n",
              "      <td>213.0</td>\n",
              "      <td>BLAZE</td>\n",
              "      <td>5</td>\n",
              "      <td>N</td>\n",
              "    </tr>\n",
              "    <tr>\n",
              "      <th>8</th>\n",
              "      <td>214.0</td>\n",
              "      <td>BLAZE</td>\n",
              "      <td>6</td>\n",
              "      <td>N</td>\n",
              "    </tr>\n",
              "  </tbody>\n",
              "</table>\n",
              "</div>"
            ],
            "text/plain": [
              "   ST_NUM    ST_NAME NUM_ROOMS OWN_OCCUPIED\n",
              "0   104.0     LEXTON         2            Y\n",
              "1   197.0   BERKELEY         3            N\n",
              "2   125.0  WASHINTON         3            Y\n",
              "3   201.0    TREMONT       3.5            N\n",
              "4   203.0    TREMONT       3.5          NaN\n",
              "5   205.0    TREMONT       3.5            Y\n",
              "6   125.0      BLAZE         4          NaN\n",
              "7   213.0      BLAZE         5            N\n",
              "8   214.0      BLAZE         6            N"
            ]
          },
          "metadata": {
            "tags": []
          },
          "execution_count": 15
        }
      ]
    },
    {
      "cell_type": "code",
      "metadata": {
        "id": "qedn8aYXw1cI",
        "colab_type": "code",
        "colab": {
          "base_uri": "https://localhost:8080/",
          "height": 69
        },
        "outputId": "f058c3f6-ed13-4b17-9c1b-5eb92d18253f"
      },
      "source": [
        "#Finding all values occurrence\n",
        "\n",
        "df['OWN_OCCUPIED'].value_counts()\n"
      ],
      "execution_count": 16,
      "outputs": [
        {
          "output_type": "execute_result",
          "data": {
            "text/plain": [
              "N    4\n",
              "Y    3\n",
              "Name: OWN_OCCUPIED, dtype: int64"
            ]
          },
          "metadata": {
            "tags": []
          },
          "execution_count": 16
        }
      ]
    },
    {
      "cell_type": "code",
      "metadata": {
        "id": "pBLGrr8Gw7HV",
        "colab_type": "code",
        "colab": {
          "base_uri": "https://localhost:8080/",
          "height": 325
        },
        "outputId": "b8f6a120-1463-433c-aa17-95c3c2f60060"
      },
      "source": [
        "#Replacing all NaN in ST_NUM with some random value 125\n",
        "\n",
        "df['ST_NUM'].fillna(125)\n",
        "\n",
        "df\n"
      ],
      "execution_count": 17,
      "outputs": [
        {
          "output_type": "execute_result",
          "data": {
            "text/html": [
              "<div>\n",
              "<style scoped>\n",
              "    .dataframe tbody tr th:only-of-type {\n",
              "        vertical-align: middle;\n",
              "    }\n",
              "\n",
              "    .dataframe tbody tr th {\n",
              "        vertical-align: top;\n",
              "    }\n",
              "\n",
              "    .dataframe thead th {\n",
              "        text-align: right;\n",
              "    }\n",
              "</style>\n",
              "<table border=\"1\" class=\"dataframe\">\n",
              "  <thead>\n",
              "    <tr style=\"text-align: right;\">\n",
              "      <th></th>\n",
              "      <th>ST_NUM</th>\n",
              "      <th>ST_NAME</th>\n",
              "      <th>NUM_ROOMS</th>\n",
              "      <th>OWN_OCCUPIED</th>\n",
              "    </tr>\n",
              "  </thead>\n",
              "  <tbody>\n",
              "    <tr>\n",
              "      <th>0</th>\n",
              "      <td>104.0</td>\n",
              "      <td>LEXTON</td>\n",
              "      <td>2</td>\n",
              "      <td>Y</td>\n",
              "    </tr>\n",
              "    <tr>\n",
              "      <th>1</th>\n",
              "      <td>197.0</td>\n",
              "      <td>BERKELEY</td>\n",
              "      <td>3</td>\n",
              "      <td>N</td>\n",
              "    </tr>\n",
              "    <tr>\n",
              "      <th>2</th>\n",
              "      <td>125.0</td>\n",
              "      <td>WASHINTON</td>\n",
              "      <td>3</td>\n",
              "      <td>Y</td>\n",
              "    </tr>\n",
              "    <tr>\n",
              "      <th>3</th>\n",
              "      <td>201.0</td>\n",
              "      <td>TREMONT</td>\n",
              "      <td>3.5</td>\n",
              "      <td>N</td>\n",
              "    </tr>\n",
              "    <tr>\n",
              "      <th>4</th>\n",
              "      <td>203.0</td>\n",
              "      <td>TREMONT</td>\n",
              "      <td>3.5</td>\n",
              "      <td>NaN</td>\n",
              "    </tr>\n",
              "    <tr>\n",
              "      <th>5</th>\n",
              "      <td>205.0</td>\n",
              "      <td>TREMONT</td>\n",
              "      <td>3.5</td>\n",
              "      <td>Y</td>\n",
              "    </tr>\n",
              "    <tr>\n",
              "      <th>6</th>\n",
              "      <td>125.0</td>\n",
              "      <td>BLAZE</td>\n",
              "      <td>4</td>\n",
              "      <td>NaN</td>\n",
              "    </tr>\n",
              "    <tr>\n",
              "      <th>7</th>\n",
              "      <td>213.0</td>\n",
              "      <td>BLAZE</td>\n",
              "      <td>5</td>\n",
              "      <td>N</td>\n",
              "    </tr>\n",
              "    <tr>\n",
              "      <th>8</th>\n",
              "      <td>214.0</td>\n",
              "      <td>BLAZE</td>\n",
              "      <td>6</td>\n",
              "      <td>N</td>\n",
              "    </tr>\n",
              "  </tbody>\n",
              "</table>\n",
              "</div>"
            ],
            "text/plain": [
              "   ST_NUM    ST_NAME NUM_ROOMS OWN_OCCUPIED\n",
              "0   104.0     LEXTON         2            Y\n",
              "1   197.0   BERKELEY         3            N\n",
              "2   125.0  WASHINTON         3            Y\n",
              "3   201.0    TREMONT       3.5            N\n",
              "4   203.0    TREMONT       3.5          NaN\n",
              "5   205.0    TREMONT       3.5            Y\n",
              "6   125.0      BLAZE         4          NaN\n",
              "7   213.0      BLAZE         5            N\n",
              "8   214.0      BLAZE         6            N"
            ]
          },
          "metadata": {
            "tags": []
          },
          "execution_count": 17
        }
      ]
    },
    {
      "cell_type": "code",
      "metadata": {
        "id": "XYqceodLxEOF",
        "colab_type": "code",
        "colab": {
          "base_uri": "https://localhost:8080/",
          "height": 325
        },
        "outputId": "06b531e7-60d6-4dc2-9ac2-a082cf2b849f"
      },
      "source": [
        "#Replacing all NaN in own_occupied with N is justified as its occurrence is more\n",
        "\n",
        "\n",
        "df['OWN_OCCUPIED'].fillna('N',inplace=True)\n",
        "df\n"
      ],
      "execution_count": 18,
      "outputs": [
        {
          "output_type": "execute_result",
          "data": {
            "text/html": [
              "<div>\n",
              "<style scoped>\n",
              "    .dataframe tbody tr th:only-of-type {\n",
              "        vertical-align: middle;\n",
              "    }\n",
              "\n",
              "    .dataframe tbody tr th {\n",
              "        vertical-align: top;\n",
              "    }\n",
              "\n",
              "    .dataframe thead th {\n",
              "        text-align: right;\n",
              "    }\n",
              "</style>\n",
              "<table border=\"1\" class=\"dataframe\">\n",
              "  <thead>\n",
              "    <tr style=\"text-align: right;\">\n",
              "      <th></th>\n",
              "      <th>ST_NUM</th>\n",
              "      <th>ST_NAME</th>\n",
              "      <th>NUM_ROOMS</th>\n",
              "      <th>OWN_OCCUPIED</th>\n",
              "    </tr>\n",
              "  </thead>\n",
              "  <tbody>\n",
              "    <tr>\n",
              "      <th>0</th>\n",
              "      <td>104.0</td>\n",
              "      <td>LEXTON</td>\n",
              "      <td>2</td>\n",
              "      <td>Y</td>\n",
              "    </tr>\n",
              "    <tr>\n",
              "      <th>1</th>\n",
              "      <td>197.0</td>\n",
              "      <td>BERKELEY</td>\n",
              "      <td>3</td>\n",
              "      <td>N</td>\n",
              "    </tr>\n",
              "    <tr>\n",
              "      <th>2</th>\n",
              "      <td>125.0</td>\n",
              "      <td>WASHINTON</td>\n",
              "      <td>3</td>\n",
              "      <td>Y</td>\n",
              "    </tr>\n",
              "    <tr>\n",
              "      <th>3</th>\n",
              "      <td>201.0</td>\n",
              "      <td>TREMONT</td>\n",
              "      <td>3.5</td>\n",
              "      <td>N</td>\n",
              "    </tr>\n",
              "    <tr>\n",
              "      <th>4</th>\n",
              "      <td>203.0</td>\n",
              "      <td>TREMONT</td>\n",
              "      <td>3.5</td>\n",
              "      <td>N</td>\n",
              "    </tr>\n",
              "    <tr>\n",
              "      <th>5</th>\n",
              "      <td>205.0</td>\n",
              "      <td>TREMONT</td>\n",
              "      <td>3.5</td>\n",
              "      <td>Y</td>\n",
              "    </tr>\n",
              "    <tr>\n",
              "      <th>6</th>\n",
              "      <td>125.0</td>\n",
              "      <td>BLAZE</td>\n",
              "      <td>4</td>\n",
              "      <td>N</td>\n",
              "    </tr>\n",
              "    <tr>\n",
              "      <th>7</th>\n",
              "      <td>213.0</td>\n",
              "      <td>BLAZE</td>\n",
              "      <td>5</td>\n",
              "      <td>N</td>\n",
              "    </tr>\n",
              "    <tr>\n",
              "      <th>8</th>\n",
              "      <td>214.0</td>\n",
              "      <td>BLAZE</td>\n",
              "      <td>6</td>\n",
              "      <td>N</td>\n",
              "    </tr>\n",
              "  </tbody>\n",
              "</table>\n",
              "</div>"
            ],
            "text/plain": [
              "   ST_NUM    ST_NAME NUM_ROOMS OWN_OCCUPIED\n",
              "0   104.0     LEXTON         2            Y\n",
              "1   197.0   BERKELEY         3            N\n",
              "2   125.0  WASHINTON         3            Y\n",
              "3   201.0    TREMONT       3.5            N\n",
              "4   203.0    TREMONT       3.5            N\n",
              "5   205.0    TREMONT       3.5            Y\n",
              "6   125.0      BLAZE         4            N\n",
              "7   213.0      BLAZE         5            N\n",
              "8   214.0      BLAZE         6            N"
            ]
          },
          "metadata": {
            "tags": []
          },
          "execution_count": 18
        }
      ]
    }
  ]
}